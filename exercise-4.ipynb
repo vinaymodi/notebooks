{
 "cells": [
  {
   "cell_type": "markdown",
   "metadata": {},
   "source": [
    "This post addresses exercise 4 of chapter 1 from the book The Essence of Neural Networks. In this exercise 4, we rearrange the line derived in exercise 2, into the form, $input(x, y) = m \\times y - y + c$. Then calculate the input for all data points provided in exercise 1, and for each point find an output value using the binary threshold function."
   ]
  },
  {
   "cell_type": "code",
   "execution_count": 4,
   "metadata": {},
   "outputs": [
    {
     "name": "stdout",
     "output_type": "stream",
     "text": [
      "input(x, y): [-0.14559426  0.09026639  0.12612705 -0.00215164 -0.03043033 -0.1869877\n",
      "  0.22059426 -0.07182377]\n",
      "output: [0 1 1 0 0 0 1 0]\n"
     ]
    }
   ],
   "source": [
    "\"\"\"\n",
    "Ex4: Rearrange the line drived in exercise-2 into the form: \n",
    "input(x, y) = m*x - y + c\n",
    "\n",
    "Calculate the input for all data points listed in exercise-1 and for each point\n",
    "find an output value using the binary threshold function. How do you think the\n",
    "input calculation could be modelled by a neural network?\n",
    "\"\"\"\n",
    "\n",
    "\n",
    "import numpy as np\n",
    "import matplotlib.pyplot as plt\n",
    "#from sklearn.metrics import mean_squared_error\n",
    "\n",
    "# input data points, x-coordinates\n",
    "x = np.array([0.30, 0.35, 0.40, 0.50, 0.60, 0.80, 0.95, 1.10])\n",
    "# target output or true output, i.e., true y-coordinates\n",
    "target = np.array([1.60, 1.40, 1.40, 1.60, 1.70, 2.00, 1.70, 2.10])\n",
    "\n",
    "# number of data points\n",
    "n = len(x)\n",
    "\n",
    "# In ex2, equation of line fitting was derived using least squares\n",
    "# slop using least squares method\n",
    "m = (n*np.sum(x*target) - np.sum(x)*np.sum(target))/(n*np.sum(x**2) - (np.sum(x))**2)\n",
    "# intercept using least squares method\n",
    "c = (np.sum(target) - m * np.sum(x)) / n\n",
    "\n",
    "# using above calculated m and c, fit a line on data points x.\n",
    "y = m*x + c\n",
    "\n",
    "# Now as per the requirement of this exercise, we re-arrange the above equation\n",
    "# as input(x, y) = m*x - y + c where x and y take values from input x and target output.\n",
    "input = m*x - target + c\n",
    "print('input(x, y): {}'.format(input))\n",
    "\n",
    "# After re-arranging, we can define the output value as:\n",
    "# output = 1 iff input(x, y) >= 0\n",
    "# output = 0 iff input(x, y) < 0\n",
    "\n",
    "output = (input >= 0).astype(int)\n",
    "print(\"output: {}\".format(output))"
   ]
  }
 ],
 "metadata": {
  "kernelspec": {
   "display_name": "Python 3",
   "language": "python",
   "name": "python3"
  },
  "language_info": {
   "codemirror_mode": {
    "name": "ipython",
    "version": 3
   },
   "file_extension": ".py",
   "mimetype": "text/x-python",
   "name": "python",
   "nbconvert_exporter": "python",
   "pygments_lexer": "ipython3",
   "version": "3.5.3"
  },
  "toc": {
   "colors": {
    "hover_highlight": "#DAA520",
    "running_highlight": "#FF0000",
    "selected_highlight": "#FFD700"
   },
   "moveMenuLeft": true,
   "nav_menu": {
    "height": "12px",
    "width": "252px"
   },
   "navigate_menu": true,
   "number_sections": true,
   "sideBar": true,
   "threshold": 4,
   "toc_cell": false,
   "toc_section_display": "block",
   "toc_window_display": false
  }
 },
 "nbformat": 4,
 "nbformat_minor": 2
}
