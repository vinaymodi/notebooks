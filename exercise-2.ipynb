{
 "cells": [
  {
   "cell_type": "markdown",
   "metadata": {},
   "source": [
    "This post addresses exercise 2 of chapter 1 from the book The Essence of Neural Networks. In this exercise, we fit a line to the given data using linear least squares. The method of linear least squares provides us a way of calculating slop and intercept. A straight line with this slop and intercept minimizes the sum of the squared errors for all data points."
   ]
  },
  {
   "cell_type": "code",
   "execution_count": 1,
   "metadata": {},
   "outputs": [
    {
     "name": "stdout",
     "output_type": "stream",
     "text": [
      "Mean squared error after least square fit: 0.016871157786885263\n"
     ]
    },
    {
     "data": {
      "image/png": "[encoded data removed]",
      "text/plain": [
       "<matplotlib.figure.Figure at 0x7f0b28eb50b8>"
      ]
     },
     "metadata": {},
     "output_type": "display_data"
    }
   ],
   "source": [
    "\"\"\"\n",
    "Ex2: In this exercise one needs to fit a straight line to the\n",
    "data already provided in Question 1 (i.e., ex1) using least squares.\n",
    "\n",
    "The linear least squares fitting technique is the simplest and \n",
    "most commonly applied form of linear regression and provides a \n",
    "solution to the problem of finding the best fitting straight line \n",
    "through a set of points.\n",
    "\n",
    "Method of least squares provides us a way of calculating slop m\n",
    "and intercept c. The straight line with this slop m and intercept \n",
    "c minimizes the sum of the squared errors for all data points.\n",
    "The sum of squared error is simply these errors squared and summed.\n",
    "\n",
    "The method of least squares tells us that m and c are found from:\n",
    "m = (n*sum(x_i*y_i) - sum(x_i)*sum(y_i)) / (n*sum(x_i**2) - (sum(x_i))**2)\n",
    "\n",
    "c = sum(y_i) - m*sum(x_i)\n",
    "\n",
    "Here, x_i and y_i are the coordinate values for point i and n is the\n",
    "number of points. The summations are performed for all data points.\n",
    "\"\"\"\n",
    "\n",
    "\n",
    "import numpy as np\n",
    "import matplotlib.pyplot as plt\n",
    "#from sklearn.metrics import mean_squared_error\n",
    "\n",
    "# input data points, x-coordinates\n",
    "x = np.array([0.30, 0.35, 0.40, 0.50, 0.60, 0.80, 0.95, 1.10])\n",
    "# target output or true output, i.e., true y-coordinates\n",
    "target = np.array([1.60, 1.40, 1.40, 1.60, 1.70, 2.00, 1.70, 2.10])\n",
    "\n",
    "# number of data points\n",
    "n = len(x)\n",
    "\n",
    "# slop using least square method\n",
    "m = (n*np.sum(x*target) - np.sum(x)*np.sum(target)) / (n*np.sum(x**2) - (np.sum(x))**2)\n",
    "# intercept using least square method\n",
    "c = (np.sum(target) - m*np.sum(x)) / n\n",
    "\n",
    "# using above calculated m and c, fit a line on data points x.\n",
    "y = m*x + c\n",
    "\n",
    "plt.ion()\n",
    "fig = plt.figure()\n",
    "p1 = fig.add_subplot(111)\n",
    "p1.plot(x, y, label='Least square fit')\n",
    "p1.plot(x, target, 'bo', label='data points')\n",
    "plt.legend()\n",
    "p1.set_title(\"Least square fit to data points\")\n",
    "p1.set_xlabel(\"X Axis\")\n",
    "p1.set_ylabel(\"Y Axis\")\n",
    "#fig.savefig('Ex2.png', dpi=300)\n",
    "\n",
    "# mean squared error after fitting line 1 (i.e., values of output1) and target output\n",
    "mse1 = np.mean((target - y)**2)\n",
    "print('Mean squared error after least square fit: {}'.format(mse1))\n",
    "\n",
    "# mean squared error using sklearn\n",
    "#print(mean_squared_error(target, y))"
   ]
  }
 ],
 "metadata": {
  "kernelspec": {
   "display_name": "Python 3",
   "language": "python",
   "name": "python3"
  },
  "language_info": {
   "codemirror_mode": {
    "name": "ipython",
    "version": 3
   },
   "file_extension": ".py",
   "mimetype": "text/x-python",
   "name": "python",
   "nbconvert_exporter": "python",
   "pygments_lexer": "ipython3",
   "version": "3.5.3"
  },
  "toc": {
   "colors": {
    "hover_highlight": "#DAA520",
    "running_highlight": "#FF0000",
    "selected_highlight": "#FFD700"
   },
   "moveMenuLeft": true,
   "nav_menu": {
    "height": "12px",
    "width": "252px"
   },
   "navigate_menu": true,
   "number_sections": true,
   "sideBar": true,
   "threshold": 4,
   "toc_cell": false,
   "toc_section_display": "block",
   "toc_window_display": false
  }
 },
 "nbformat": 4,
 "nbformat_minor": 2
}
