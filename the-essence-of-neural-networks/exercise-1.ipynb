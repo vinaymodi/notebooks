{
 "cells": [
  {
   "cell_type": "markdown",
   "metadata": {},
   "source": [
    "This post addresses exercise 1 of chapter 1 from the book The Essence of Neural Networks. For the given data, we fit straight line by sketching, derive the equations of these lines by measuring slop and intercept. Then, for each line we calculate the mean squared error."
   ]
  },
  {
   "cell_type": "code",
   "execution_count": 2,
   "metadata": {},
   "outputs": [
    {
     "name": "stdout",
     "output_type": "stream",
     "text": [
      "Mean squared error with line 1 fit: 0.02\n",
      "Mean squared error with line 2 fit: 0.04\n",
      "Line 1 is better fit than line 2\n"
     ]
    },
    {
     "data": {
      "image/png": "[encoded data removed]",
      "text/plain": [
       "<matplotlib.figure.Figure at 0x7f393d8cb860>"
      ]
     },
     "metadata": {},
     "output_type": "display_data"
    }
   ],
   "source": [
    "\"\"\"\n",
    "For the data given below (i.e., (x, target)), fit, by sketching, a number of \n",
    "lines through the data. Derive the equations of these lines by measuring the \n",
    "slop and intercept. For each line calcuate the mean squared error given that\n",
    "the input is x and the output is: output = mx + c\n",
    "\"\"\"\n",
    "\n",
    "\n",
    "import numpy as np\n",
    "import matplotlib.pyplot as plt\n",
    "from sklearn.metrics import mean_squared_error\n",
    "\n",
    "# input data points, x-coordinates\n",
    "x = np.array([0.30, 0.35, 0.40, 0.50, 0.60, 0.80, 0.95, 1.10])\n",
    "# target output or true output, i.e., true y-coordinates\n",
    "target = np.array([1.60, 1.40, 1.40, 1.60, 1.70, 2.00, 1.70, 2.10])\n",
    "\n",
    "# we have sketched two lines and that gave us following output \n",
    "# values (i.e., y-coordinates)\n",
    "y1 = np.array([1.55, 1.575, 1.6, 1.65, 1.7, 1.8, 1.875, 1.95])\n",
    "y2 = np.array([1.665, 1.6925, 1.72, 1.775, 1.83, 1.94, 2.0225, 2.105])\n",
    "\n",
    "# number of data points\n",
    "n = len(x)\n",
    "\n",
    "# measure the slop for y1; m = (y_2 - y_1)/(x_2 - x_1)\n",
    "m1 = (y1[5] - y1[4])/(x[5] - x[4])\n",
    "# measure the intercept for y1; y = mx + c => c = y - mx\n",
    "c1 = y1[5] - m1*x[5]\n",
    "# fit a line with slop m1 and intercept c1\n",
    "line1 = m1*x + c1\n",
    "\n",
    "# measure the slop for y2; m = (y_2 - y_1)/(x_2 - x_1)\n",
    "m2 = (y2[5] - y2[2])/(x[5] - x[2])\n",
    "# measure the intercept for y1; y = mx + c => c = y - mx\n",
    "c2 = y2[5] - m2*x[5]\n",
    "# fit a line with slop m1 and intercept c1\n",
    "line2 = m2*x + c2\n",
    "\n",
    "plt.ion()\n",
    "fig = plt.figure()\n",
    "p1 = fig.add_subplot(111)\n",
    "# plot data points and fit line1\n",
    "line_fit_1 = p1.plot(x, line1, label=\"Fitting line 1\")\n",
    "line_fit_2 = p1.plot(x, line2, label=\"Fitting line 2\")\n",
    "# plot data points\n",
    "data_plot = p1.plot(x, target, 'bo', label=\"Data points\")\n",
    "# show labels as legends\n",
    "plt.legend()\n",
    "p1.set_title(\"Fit straight lines by seeing data points\")\n",
    "p1.set_xlabel(\"X Axis\")\n",
    "p1.set_ylabel(\"Y Axis\")\n",
    "fig.savefig('Ex1.png', dpi=300)\n",
    "\n",
    "# mean squared error after fitting line 1, i.e., values of y1 and target\n",
    "mse1 = np.mean((target - y1)**2)\n",
    "print('Mean squared error with line 1 fit: {:0.2f}'.format(mse1))\n",
    "\n",
    "# mean squared error after fitting line 2, i.e., values of y2 and target\n",
    "mse2 = np.mean((target - y2)**2)\n",
    "print('Mean squared error with line 2 fit: {:0.2f}'.format(mse2))\n",
    "\n",
    "stmt = \"Line 1 is better fit than line 2\" if mse2 > mse1 else \"Line 2 is better fit than line 1\"\n",
    "print(stmt)"
   ]
  }
 ],
 "metadata": {
  "kernelspec": {
   "display_name": "Python 3",
   "language": "python",
   "name": "python3"
  },
  "language_info": {
   "codemirror_mode": {
    "name": "ipython",
    "version": 3
   },
   "file_extension": ".py",
   "mimetype": "text/x-python",
   "name": "python",
   "nbconvert_exporter": "python",
   "pygments_lexer": "ipython3",
   "version": "3.5.3"
  },
  "toc": {
   "colors": {
    "hover_highlight": "#DAA520",
    "running_highlight": "#FF0000",
    "selected_highlight": "#FFD700"
   },
   "moveMenuLeft": true,
   "nav_menu": {
    "height": "12px",
    "width": "252px"
   },
   "navigate_menu": true,
   "number_sections": true,
   "sideBar": true,
   "threshold": 4,
   "toc_cell": false,
   "toc_section_display": "block",
   "toc_window_display": false
  }
 },
 "nbformat": 4,
 "nbformat_minor": 2
}
