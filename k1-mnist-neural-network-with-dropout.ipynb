{
  "cells": [
    {
      "cell_type": "markdown",
      "source": [
        "# MNIST digit recognition using neural network with dropouts\n",
        "To perform training and testing without using high-level neural network library. Most of the code is written to explain how the neural network works with dropouts.\n",
        "\n",
        "3 layers NN:\n",
        "* algebric formula for neural network architecture: $l_2 = softmax(tanh(l_0 W_0) W_1)$"
      ],
      "metadata": {}
    },
    {
      "cell_type": "code",
      "source": [
        "# This Python 3 environment comes with many helpful analytics libraries installed\n",
        "# It is defined by the kaggle/python docker image: https://github.com/kaggle/docker-python\n",
        "# For example, here's several helpful packages to load in \n",
        "\n",
        "import numpy as np # linear algebra\n",
        "import pandas as pd # data processing, CSV file I/O (e.g. pd.read_csv)\n",
        "import matplotlib.pyplot as plt\n",
        "import sklearn\n",
        "from sklearn.model_selection import train_test_split\n",
        "\n",
        "# Input data files are available in the \"../input/\" directory.\n",
        "# For example, running this (by clicking run or pressing Shift+Enter) will list the files in the input directory\n",
        "\n",
        "import os\n",
        "print(os.listdir(\"../input\"))\n",
        "\n",
        "# Any results you write to the current directory are saved as output."
      ],
      "outputs": [
        {
          "output_type": "stream",
          "name": "stdout",
          "text": [
            "['train.csv', 'sample_submission.csv', 'test.csv']\n"
          ]
        }
      ],
      "execution_count": 1,
      "metadata": {
        "_cell_guid": "b1076dfc-b9ad-4769-8c92-a6c4dae69d19",
        "_uuid": "8f2839f25d086af736a60e9eeb907d3b93b6e0e5"
      }
    },
    {
      "cell_type": "code",
      "source": [
        "df_train = pd.read_csv(\"../input/train.csv\")\n",
        "df_test = pd.read_csv(\"../input/test.csv\")"
      ],
      "outputs": [],
      "execution_count": 2,
      "metadata": {
        "_cell_guid": "79c7e3d0-c299-4dcb-8224-4455121ee9b0",
        "_uuid": "d629ff2d2480ee46fbb7e2d37f6b5fab8052498a"
      }
    },
    {
      "cell_type": "code",
      "source": [
        "# Verify that the dataset is as per the description provided\n",
        "print(\"Train dataset dimensions: {}\".format(df_train.shape))\n",
        "print(\"Training dataset samples:\\n\", df_train.head())\n",
        "print(\"\\nTest dataset dimensions: {}\".format(df_test.shape))\n",
        "print(\"Test dataset samples:\\n\", df_test.head())"
      ],
      "outputs": [
        {
          "output_type": "stream",
          "name": "stdout",
          "text": [
            "Train dataset dimensions: (42000, 785)\n",
            "Training dataset samples:\n",
            "    label  pixel0  pixel1    ...     pixel781  pixel782  pixel783\n",
            "0      1       0       0    ...            0         0         0\n",
            "1      0       0       0    ...            0         0         0\n",
            "2      1       0       0    ...            0         0         0\n",
            "3      4       0       0    ...            0         0         0\n",
            "4      0       0       0    ...            0         0         0\n",
            "\n",
            "[5 rows x 785 columns]\n",
            "\n",
            "Test dataset dimensions: (28000, 784)\n",
            "Test dataset samples:\n",
            "    pixel0  pixel1  pixel2    ...     pixel781  pixel782  pixel783\n",
            "0       0       0       0    ...            0         0         0\n",
            "1       0       0       0    ...            0         0         0\n",
            "2       0       0       0    ...            0         0         0\n",
            "3       0       0       0    ...            0         0         0\n",
            "4       0       0       0    ...            0         0         0\n",
            "\n",
            "[5 rows x 784 columns]\n"
          ]
        }
      ],
      "execution_count": 3,
      "metadata": {}
    },
    {
      "cell_type": "code",
      "source": [
        "Y_train = df_train[\"label\"]\n",
        "# From training dataset, remove \"label\" column to use that as input to the network\n",
        "X_train = df_train.drop(labels=[\"label\"], axis=1)\n",
        "X_test = df_test"
      ],
      "outputs": [],
      "execution_count": 4,
      "metadata": {}
    },
    {
      "cell_type": "code",
      "source": [
        "# How do training and test images look like?\n",
        "# First, lets convert images into 28x28 matrix; \n",
        "X_train_samples = X_train[0:9].values.reshape(-1, 28, 28)\n",
        "X_test_samples = df_test[0:9].values.reshape(-1, 28, 28)"
      ],
      "outputs": [],
      "execution_count": 5,
      "metadata": {}
    },
    {
      "cell_type": "code",
      "source": [
        "# For 9 sample images from training dataset, plot them in 3 by 3\n",
        "print(\"Training dataset sample images:\")\n",
        "plt.figure(figsize=(5, 5))\n",
        "for i in range(9):\n",
        "    plt.subplot(3, 3, i+1)\n",
        "    plt.xticks([])\n",
        "    plt.yticks([])\n",
        "    plt.grid(False)\n",
        "    plt.imshow(X_train_samples[i], cmap=plt.cm.binary)\n",
        "    plt.xlabel(Y_train.iloc[i])\n",
        "plt.show()"
      ],
      "outputs": [
        {
          "output_type": "stream",
          "name": "stdout",
          "text": [
            "Training dataset sample images:\n"
          ]
        },
        {
          "output_type": "display_data",
          "data": {
            "image/png": "[encoded data removed]",
            "text/plain": [
              "<Figure size 360x360 with 9 Axes>"
            ]
          },
          "metadata": {}
        }
      ],
      "execution_count": 6,
      "metadata": {}
    },
    {
      "cell_type": "code",
      "source": [
        "# For 9 sample images from training dataset, plot them in 3 by 3\n",
        "print(\"Test dataset sample images:\")\n",
        "plt.figure(figsize=(5, 5))\n",
        "for i in range(9):\n",
        "    plt.subplot(3, 3, i+1)\n",
        "    plt.xticks([])\n",
        "    plt.yticks([])\n",
        "    plt.grid(False)\n",
        "    plt.imshow(X_test_samples[i], cmap=plt.cm.binary)\n",
        "plt.show()"
      ],
      "outputs": [
        {
          "output_type": "stream",
          "name": "stdout",
          "text": [
            "Test dataset sample images:\n"
          ]
        },
        {
          "output_type": "display_data",
          "data": {
            "image/png": "[encoded data removed]",
            "text/plain": [
              "<Figure size 360x360 with 9 Axes>"
            ]
          },
          "metadata": {}
        }
      ],
      "execution_count": 7,
      "metadata": {}
    },
    {
      "cell_type": "code",
      "source": [
        "# Normalize the dataset. All pixel values will fall between [0, 1]\n",
        "X_train = X_train/255.0"
      ],
      "outputs": [],
      "execution_count": 8,
      "metadata": {}
    },
    {
      "cell_type": "markdown",
      "source": [
        "While training, check how the model fits to validation set"
      ],
      "metadata": {}
    },
    {
      "cell_type": "code",
      "source": [
        "# Create a validation set\n",
        "X_train, X_val, Y_train, Y_val = train_test_split(X_train, Y_train, test_size = 0.3)\n",
        "# Create one-hot vectors for all Y_train\n",
        "one_hot_labels = np.zeros((Y_train.shape[0], 10))\n",
        "for index, label in enumerate(Y_train):\n",
        "    one_hot_labels[index][label] = 1\n",
        "train_labels = one_hot_labels\n",
        "\n",
        "# Create one-hot vectors for validation set Y_val\n",
        "one_hot_labels = np.zeros((Y_val.shape[0], 10))\n",
        "for index, label in enumerate(Y_val):\n",
        "    one_hot_labels[index][label] = 1\n",
        "val_labels = one_hot_labels"
      ],
      "outputs": [],
      "execution_count": 9,
      "metadata": {}
    },
    {
      "cell_type": "code",
      "source": [
        "def tanh(x):\n",
        "    \"\"\"Hidden layer activation function\"\"\"\n",
        "    return np.tanh(x)\n",
        "\n",
        "def tanh_derivative(output):\n",
        "    \"\"\"Slop information for backpropogation\"\"\"\n",
        "    return 1 - (output ** 2)\n",
        "\n",
        "def softmax(x):\n",
        "    \"\"\"Output layer activation\"\"\"\n",
        "    temp = np.exp(x)\n",
        "    return temp/np.sum(temp, axis=1, keepdims=True)"
      ],
      "outputs": [],
      "execution_count": 10,
      "metadata": {}
    },
    {
      "cell_type": "code",
      "source": [
        "# Initialize the network\n",
        "num_training_examples = X_train.shape[0]\n",
        "alpha = 0.7 # learning rate\n",
        "iterations = 51 # iterate over training dataset these many times\n",
        "input_layer_size = X_train.shape[1]\n",
        "hidden_layer_size = 100\n",
        "output_layer_size = 10\n",
        "\n",
        "batch_size = 100"
      ],
      "outputs": [],
      "execution_count": 11,
      "metadata": {}
    },
    {
      "cell_type": "code",
      "source": [
        "# Layer_0 weights: 784 x 100\n",
        "weights_0_1 = 0.02 * np.random.random((input_layer_size, hidden_layer_size)) - 0.01\n",
        "# Layer_1 weights: 100 x 10\n",
        "weights_1_2 = 0.2 * np.random.random((hidden_layer_size, output_layer_size)) - 0.1"
      ],
      "outputs": [],
      "execution_count": 12,
      "metadata": {}
    },
    {
      "cell_type": "code",
      "source": [
        "# Now train the network with batch size defined above\n",
        "# As the training will progress, check how the test dataset is reacting to trained weights.\n",
        "# This will allow to see if we are overfitting as the training progresses.\n",
        "for j in range(iterations):\n",
        "    correct_count = 0\n",
        "    for i in range(int(num_training_examples/batch_size)):\n",
        "        batch_start = i * batch_size\n",
        "        batch_end = (i+1) * batch_size\n",
        "        \n",
        "        layer_0 = X_train[batch_start:batch_end]\n",
        "        layer_1 = tanh(np.dot(layer_0, weights_0_1))\n",
        "        dropout_mask = np.random.randint(2, size=layer_1.shape)\n",
        "        layer_1 *= dropout_mask * 2\n",
        "        layer_2 = softmax(np.dot(layer_1, weights_1_2))\n",
        "        \n",
        "        for k in range(batch_size):\n",
        "            max_output_index = np.argmax(layer_2[k:k+1])\n",
        "            true_label = np.argmax(train_labels[batch_start + k: batch_start + k+1])\n",
        "            correct_count += int(max_output_index == true_label)           \n",
        "        \n",
        "        layer_2_delta = (train_labels[batch_start:batch_end] - layer_2) / (batch_size * layer_2.shape[0])\n",
        "        layer_1_delta = layer_2_delta.dot(weights_1_2.T) * tanh_derivative(layer_1)\n",
        "        layer_1_delta *= dropout_mask\n",
        "        \n",
        "        weights_1_2 += alpha * layer_1.T.dot(layer_2_delta)\n",
        "        weights_0_1 += alpha * layer_0.T.dot(layer_1_delta)\n",
        "        \n",
        "    test_correct_count = 0\n",
        "    for i in range(X_val.shape[0]):\n",
        "        layer_0 = X_val[i:i+1]\n",
        "        layer_1 = tanh(np.dot(layer_0, weights_0_1))\n",
        "        layer_2 = np.dot(layer_1, weights_1_2)\n",
        "        \n",
        "        max_test_output_index = np.argmax(layer_2)\n",
        "        true_test_label = np.argmax(val_labels[i:i+1])\n",
        "        test_correct_count += int(max_test_output_index == true_test_label)\n",
        "        \n",
        "    if (j%10 == 0):\n",
        "        print(\"Iter: {}, Test acc: {}, Train acc: {}\".format(j, \n",
        "                                                             test_correct_count/X_val.shape[0],\n",
        "                                                             correct_count/X_train.shape[0]))"
      ],
      "outputs": [
        {
          "output_type": "stream",
          "name": "stdout",
          "text": [
            "Iter: 0, Test acc: 0.7386507936507937, Train acc: 0.590578231292517\n",
            "Iter: 10, Test acc: 0.8753968253968254, Train acc: 0.861360544217687\n",
            "Iter: 20, Test acc: 0.8938095238095238, Train acc: 0.8841156462585034\n",
            "Iter: 30, Test acc: 0.903015873015873, Train acc: 0.8916666666666667\n",
            "Iter: 40, Test acc: 0.9087301587301587, Train acc: 0.8956462585034014\n",
            "Iter: 50, Test acc: 0.9143650793650794, Train acc: 0.8904761904761904\n"
          ]
        }
      ],
      "execution_count": 13,
      "metadata": {}
    },
    {
      "cell_type": "code",
      "source": [
        "# Normalize the test dataset. All pixel values will fall between [0, 1]\n",
        "X_test = X_test/255.0\n",
        "test_correct_count = 0\n",
        "test_output = {\"ImageId\": [], \"Label\": []}\n",
        "for i in range(X_test.shape[0]):\n",
        "    layer_0 = X_test[i:i+1]\n",
        "    layer_1 = tanh(np.dot(layer_0, weights_0_1))\n",
        "    layer_2 = np.dot(layer_1, weights_1_2)\n",
        "\n",
        "    max_test_output_index = np.argmax(layer_2)\n",
        "    test_output[\"ImageId\"].append(i+1)\n",
        "    test_output[\"Label\"].append(max_test_output_index)\n",
        "\n",
        "df_test_output = pd.DataFrame(test_output)\n",
        "df_test_output.to_csv(\"mnist_submission_v1.csv\",index=False)"
      ],
      "outputs": [],
      "execution_count": 14,
      "metadata": {}
    },
    {
      "cell_type": "code",
      "source": [
        "df_test_output.tail()"
      ],
      "outputs": [
        {
          "output_type": "execute_result",
          "execution_count": 15,
          "data": {
            "text/html": [
              "<div>\n",
              "<style scoped>\n",
              "    .dataframe tbody tr th:only-of-type {\n",
              "        vertical-align: middle;\n",
              "    }\n",
              "\n",
              "    .dataframe tbody tr th {\n",
              "        vertical-align: top;\n",
              "    }\n",
              "\n",
              "    .dataframe thead th {\n",
              "        text-align: right;\n",
              "    }\n",
              "</style>\n",
              "<table border=\"1\" class=\"dataframe\">\n",
              "  <thead>\n",
              "    <tr style=\"text-align: right;\">\n",
              "      <th></th>\n",
              "      <th>ImageId</th>\n",
              "      <th>Label</th>\n",
              "    </tr>\n",
              "  </thead>\n",
              "  <tbody>\n",
              "    <tr>\n",
              "      <th>27995</th>\n",
              "      <td>27996</td>\n",
              "      <td>9</td>\n",
              "    </tr>\n",
              "    <tr>\n",
              "      <th>27996</th>\n",
              "      <td>27997</td>\n",
              "      <td>7</td>\n",
              "    </tr>\n",
              "    <tr>\n",
              "      <th>27997</th>\n",
              "      <td>27998</td>\n",
              "      <td>3</td>\n",
              "    </tr>\n",
              "    <tr>\n",
              "      <th>27998</th>\n",
              "      <td>27999</td>\n",
              "      <td>9</td>\n",
              "    </tr>\n",
              "    <tr>\n",
              "      <th>27999</th>\n",
              "      <td>28000</td>\n",
              "      <td>2</td>\n",
              "    </tr>\n",
              "  </tbody>\n",
              "</table>\n",
              "</div>"
            ],
            "text/plain": [
              "       ImageId  Label\n",
              "27995    27996      9\n",
              "27996    27997      7\n",
              "27997    27998      3\n",
              "27998    27999      9\n",
              "27999    28000      2"
            ]
          },
          "metadata": {}
        }
      ],
      "execution_count": 15,
      "metadata": {}
    },
    {
      "cell_type": "code",
      "source": [],
      "outputs": [],
      "execution_count": 16,
      "metadata": {}
    }
  ],
  "metadata": {
    "kernelspec": {
      "name": "python3",
      "language": "python",
      "display_name": "Python 3"
    },
    "language_info": {
      "name": "python",
      "version": "3.7.1",
      "mimetype": "text/x-python",
      "codemirror_mode": {
        "name": "ipython",
        "version": 3
      },
      "pygments_lexer": "ipython3",
      "nbconvert_exporter": "python",
      "file_extension": ".py"
    },
    "kernel_info": {
      "name": "python3"
    },
    "nteract": {
      "version": "0.13.0"
    }
  },
  "nbformat": 4,
  "nbformat_minor": 1
}